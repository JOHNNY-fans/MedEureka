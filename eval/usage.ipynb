{
 "cells": [
  {
   "cell_type": "code",
   "execution_count": 1,
   "metadata": {},
   "outputs": [
    {
     "name": "stderr",
     "output_type": "stream",
     "text": [
      "/mnt/nvme/wangnan/anaconda3/envs/bge_flash/lib/python3.10/site-packages/tqdm/auto.py:21: TqdmWarning: IProgress not found. Please update jupyter and ipywidgets. See https://ipywidgets.readthedocs.io/en/stable/user_install.html\n",
      "  from .autonotebook import tqdm as notebook_tqdm\n"
     ]
    }
   ],
   "source": [
    "from Toolkit import CLTrainer,evaluate\n",
    "from datasets import load_from_disk\n",
    "import torch.nn as nn\n",
    "from typing import TYPE_CHECKING, Any, Callable, Dict, List, Optional, Tuple, Union, cast\n",
    "from torch.utils.data.dataset import Dataset\n",
    "import json\n",
    "from tqdm.auto import tqdm\n",
    "import numpy as np\n",
    "from sentence_transformers import SentenceTransformer\n",
    "from transformers import AutoConfig, AutoModel, AutoTokenizer\n",
    "import numpy as np\n",
    "import torch\n",
    "import pandas as pd\n",
    "from sentence_transformers import SentenceTransformer\n",
    "from FlagEmbedding import FlagModel\n",
    "from FlagEmbedding import FlagLLMModel\n",
    "from FlagEmbedding import BGEM3FlagModel"
   ]
  },
  {
   "cell_type": "code",
   "execution_count": 2,
   "metadata": {},
   "outputs": [],
   "source": [
    "import os\n",
    "os.environ['CUDA_VISIBLE_DEVICES'] = '1'"
   ]
  },
  {
   "cell_type": "code",
   "execution_count": 3,
   "metadata": {},
   "outputs": [],
   "source": [
    "eureka_unsup = load_from_disk('/mnt/nvme/wangnan/Eureka/eureka_unsup_dataset')\n",
    "corpus_dict = json.loads(eureka_unsup['corpus']['task2corpus'][0])"
   ]
  },
  {
   "cell_type": "code",
   "execution_count": 4,
   "metadata": {},
   "outputs": [
    {
     "data": {
      "text/plain": [
       "Dataset({\n",
       "    features: ['task2corpus'],\n",
       "    num_rows: 1\n",
       "})"
      ]
     },
     "execution_count": 4,
     "metadata": {},
     "output_type": "execute_result"
    }
   ],
   "source": [
    "eureka_unsup['corpus']"
   ]
  },
  {
   "cell_type": "code",
   "execution_count": 6,
   "metadata": {},
   "outputs": [
    {
     "name": "stderr",
     "output_type": "stream",
     "text": [
      "Loading checkpoint shards: 100%|██████████| 4/4 [00:00<00:00,  5.42it/s]\n"
     ]
    }
   ],
   "source": [
    "model_name_or_path = '/mnt/hpfs/wangnan/BAAI/bge-multilingual-gemma2'\n",
    "# config = AutoConfig.from_pretrained(model_name_or_path)\n",
    "# model = AutoModel.from_pretrained(model_name_or_path, config=config,ignore_mismatched_sizes=True)\n",
    "# tokenizer = AutoTokenizer.from_pretrained(model_name_or_path, config=config)\n",
    "\n",
    "# model = FlagModel(model_name_or_path,use_fp16=True) \n",
    "# model = FlagLLMModel(model_name_or_path,use_fp16=True) \n",
    "# model = BGEM3FlagModel(model_name_or_path, use_fp16=True) \n",
    "model = FlagLLMModel(model_name_or_path,use_fp16=True)\n"
   ]
  },
  {
   "cell_type": "code",
   "execution_count": null,
   "metadata": {},
   "outputs": [],
   "source": [
    "=="
   ]
  },
  {
   "cell_type": "code",
   "execution_count": 7,
   "metadata": {},
   "outputs": [
    {
     "name": "stderr",
     "output_type": "stream",
     "text": [
      "Inference Embeddings: 100%|██████████| 2/2 [00:00<00:00,  2.46it/s]\n",
      "Inference Embeddings: 100%|██████████| 27/27 [00:07<00:00,  3.41it/s]\n",
      "Inference Embeddings: 100%|██████████| 52/52 [00:20<00:00,  2.56it/s]\n",
      "Inference Embeddings: 100%|██████████| 3/3 [00:05<00:00,  1.81s/it]\n",
      "Inference Embeddings: 100%|██████████| 139/139 [00:05<00:00, 24.69it/s]\n",
      "Inference Embeddings: 100%|██████████| 4/4 [00:01<00:00,  2.26it/s]\n",
      "Inference Embeddings: 100%|██████████| 942/942 [05:30<00:00,  2.85it/s]\n",
      "Inference Embeddings: 100%|██████████| 2/2 [00:04<00:00,  2.01s/it]\n",
      "Inference Embeddings: 100%|██████████| 261/261 [00:10<00:00, 25.31it/s]\n",
      "Inference Embeddings: 100%|██████████| 3/3 [00:01<00:00,  2.17it/s]\n",
      "Inference Embeddings: 100%|██████████| 1462/1462 [07:41<00:00,  3.17it/s]\n",
      "Inference Embeddings: 100%|██████████| 3/3 [00:06<00:00,  2.05s/it]\n",
      "Inference Embeddings: 100%|██████████| 207/207 [00:23<00:00,  8.87it/s]\n",
      "Inference Embeddings: 100%|██████████| 3/3 [00:06<00:00,  2.03s/it]\n",
      "Inference Embeddings: 100%|██████████| 1462/1462 [07:42<00:00,  3.16it/s]\n",
      "Inference Embeddings: 100%|██████████| 3/3 [00:03<00:00,  1.04s/it]\n",
      "Inference Embeddings: 100%|██████████| 121/121 [00:04<00:00, 24.43it/s]\n",
      "Inference Embeddings: 100%|██████████| 2/2 [00:00<00:00,  2.47it/s]\n",
      "Inference Embeddings: 100%|██████████| 94/94 [00:36<00:00,  2.57it/s]\n",
      "Inference Embeddings: 100%|██████████| 3/3 [00:09<00:00,  3.31s/it]\n",
      "Inference Embeddings: 100%|██████████| 59/59 [00:22<00:00,  2.57it/s]\n",
      "Inference Embeddings: 100%|██████████| 2/2 [00:02<00:00,  1.31s/it]\n",
      "Inference Embeddings: 100%|██████████| 609/609 [00:25<00:00, 23.99it/s]\n",
      "Inference Embeddings: 100%|██████████| 9/9 [00:03<00:00,  2.27it/s]\n",
      "Inference Embeddings: 100%|██████████| 1260/1260 [01:49<00:00, 11.56it/s]\n",
      "Inference Embeddings: 100%|██████████| 2/2 [00:02<00:00,  1.20s/it]\n",
      "Inference Embeddings: 100%|██████████| 16/16 [00:00<00:00, 24.69it/s]\n",
      "Inference Embeddings: 100%|██████████| 1407/1407 [01:01<00:00, 22.74it/s]\n",
      "Inference Embeddings: 100%|██████████| 5/5 [00:02<00:00,  2.48it/s]\n",
      "Inference Embeddings: 100%|██████████| 63/63 [00:11<00:00,  5.50it/s]\n",
      "Inference Embeddings: 100%|██████████| 3394/3394 [05:47<00:00,  9.75it/s]\n",
      "Inference Embeddings: 100%|██████████| 3/3 [00:07<00:00,  2.34s/it]\n",
      "Inference Embeddings: 100%|██████████| 163/163 [00:06<00:00, 25.67it/s]\n",
      "Inference Embeddings: 100%|██████████| 3/3 [00:00<00:00,  3.22it/s]\n",
      "Inference Embeddings: 100%|██████████| 1517/1517 [01:03<00:00, 23.72it/s]\n",
      "Inference Embeddings: 100%|██████████| 21/21 [00:09<00:00,  2.31it/s]\n",
      "Inference Embeddings: 100%|██████████| 65/65 [00:02<00:00, 23.51it/s]\n",
      "Inference Embeddings: 100%|██████████| 17/17 [00:06<00:00,  2.44it/s]\n",
      "Inference Embeddings: 100%|██████████| 298/298 [01:55<00:00,  2.57it/s]\n",
      "Inference Embeddings: 100%|██████████| 2/2 [00:03<00:00,  1.80s/it]\n"
     ]
    },
    {
     "name": "stdout",
     "output_type": "stream",
     "text": [
      "+-------------------+--------+--------+--------+--------+--------+--------+--------+--------+\n",
      "|                   |  HR@1  |  HR@5  | HR@10  | HR@20  | HR@50  | HR@100 | HR@200 | HR@500 |\n",
      "+-------------------+--------+--------+--------+--------+--------+--------+--------+--------+\n",
      "|      Study_en     | 0.3558 | 0.6043 | 0.6933 | 0.7791 | 0.9325 | 0.9908 | 1.0000 | 1.0000 |\n",
      "|      Study_zh     | 0.0000 | 0.1500 | 0.2417 | 0.3917 | 0.6833 | 0.8833 | 0.9750 | 1.0000 |\n",
      "|      Table_zh     | 0.7111 | 0.7838 | 0.8007 | 0.8108 | 0.8159 | 0.8159 | 0.8159 | 0.8176 |\n",
      "|     TwADR-L_en    | 0.3320 | 0.6144 | 0.7156 | 0.8067 | 0.8745 | 0.9211 | 0.9545 | 0.9838 |\n",
      "|     KB_para_zh    | 0.0732 | 0.5122 | 0.6280 | 0.7500 | 0.8780 | 0.9299 | 0.9451 | 0.9909 |\n",
      "|  EHR_sql2para_zh  | 0.5018 | 0.6418 | 0.6897 | 0.7394 | 0.7961 | 0.8227 | 0.8493 | 0.8865 |\n",
      "|  EHR_query2sql_zh | 0.8571 | 0.9556 | 0.9653 | 0.9778 | 0.9889 | 0.9945 | 0.9972 | 1.0000 |\n",
      "| EHR_query2para_zh | 0.5386 | 0.6702 | 0.7193 | 0.7561 | 0.8070 | 0.8298 | 0.8561 | 0.8895 |\n",
      "|     KB_doc_zh     | 0.6692 | 0.9436 | 0.9802 | 0.9924 | 0.9970 | 1.0000 | 1.0000 | 1.0000 |\n",
      "|      Table_en     | 0.8550 | 0.9703 | 0.9777 | 0.9814 | 0.9851 | 0.9926 | 1.0000 | 1.0000 |\n",
      "| Dialogue_qnorm_zh | 0.9906 | 1.0000 | 1.0000 | 1.0000 | 1.0000 | 1.0000 | 1.0000 | 1.0000 |\n",
      "|    SMM4H-17_en    | 0.4087 | 0.7052 | 0.7965 | 0.8752 | 0.9179 | 0.9380 | 0.9548 | 0.9740 |\n",
      "|    Dialogue_en    | 0.8900 | 0.9950 | 1.0000 | 1.0000 | 1.0000 | 1.0000 | 1.0000 | 1.0000 |\n",
      "|    Dialogue_zh    | 0.7267 | 0.8850 | 0.9233 | 0.9500 | 0.9867 | 0.9967 | 1.0000 | 1.0000 |\n",
      "|   AskAPatient_en  | 0.6207 | 0.8685 | 0.9294 | 0.9659 | 0.9845 | 0.9889 | 0.9911 | 0.9927 |\n",
      "|  EHR_query2doc_zh | 0.4854 | 0.6878 | 0.7317 | 0.7902 | 0.8463 | 0.8976 | 0.9366 | 0.9561 |\n",
      "|      Term_zh      | 0.4856 | 0.5701 | 0.5900 | 0.5940 | 0.6119 | 0.6209 | 0.6299 | 0.6358 |\n",
      "|     Term_cross    | 0.7180 | 0.9139 | 0.9476 | 0.9667 | 0.9821 | 0.9877 | 0.9923 | 0.9956 |\n",
      "|        Avg.       | 0.5677 | 0.7484 | 0.7961 | 0.8404 | 0.8938 | 0.9228 | 0.9388 | 0.9512 |\n",
      "+-------------------+--------+--------+--------+--------+--------+--------+--------+--------+\n"
     ]
    },
    {
     "ename": "NameError",
     "evalue": "name 'self' is not defined",
     "output_type": "error",
     "traceback": [
      "\u001b[0;31m---------------------------------------------------------------------------\u001b[0m",
      "\u001b[0;31mNameError\u001b[0m                                 Traceback (most recent call last)",
      "Cell \u001b[0;32mIn[7], line 3\u001b[0m\n\u001b[1;32m      1\u001b[0m \u001b[38;5;66;03m# cl_t = CLTrainer(model=model)\u001b[39;00m\n\u001b[1;32m      2\u001b[0m \u001b[38;5;66;03m# cl_t.evaluate(eureka_unsup['test'],eureka_unsup['corpus'],pooler_type='cls',)\u001b[39;00m\n\u001b[0;32m----> 3\u001b[0m \u001b[43mevaluate\u001b[49m\u001b[43m(\u001b[49m\u001b[43mmodel\u001b[49m\u001b[43m,\u001b[49m\u001b[43meureka_unsup\u001b[49m\u001b[43m[\u001b[49m\u001b[38;5;124;43m'\u001b[39;49m\u001b[38;5;124;43mtest\u001b[39;49m\u001b[38;5;124;43m'\u001b[39;49m\u001b[43m]\u001b[49m\u001b[43m,\u001b[49m\u001b[43meureka_unsup\u001b[49m\u001b[43m[\u001b[49m\u001b[38;5;124;43m'\u001b[39;49m\u001b[38;5;124;43mcorpus\u001b[39;49m\u001b[38;5;124;43m'\u001b[39;49m\u001b[43m]\u001b[49m\u001b[43m,\u001b[49m\u001b[43mmodel_type\u001b[49m\u001b[38;5;241;43m=\u001b[39;49m\u001b[38;5;124;43m'\u001b[39;49m\u001b[38;5;124;43mFlagLLMModel\u001b[39;49m\u001b[38;5;124;43m'\u001b[39;49m\u001b[43m,\u001b[49m\u001b[43mneed_prompt_for_task\u001b[49m\u001b[38;5;241;43m=\u001b[39;49m\u001b[38;5;28;43;01mTrue\u001b[39;49;00m\u001b[43m)\u001b[49m\n",
      "File \u001b[0;32m/mnt/nvme/wangnan/Eureka/evaluate_code/Toolkit.py:338\u001b[0m, in \u001b[0;36mevaluate\u001b[0;34m(model, eval_dataset, corpus_dataset, ignore_keys, metric_key_prefix, pooler_type, eval_senteval_transfer, need_prompt_for_task, model_type, emb_batch_size, q_batch_size)\u001b[0m\n\u001b[1;32m    334\u001b[0m print_table(task_names, metrics_name, task_scores)\n\u001b[1;32m    336\u001b[0m metrics \u001b[38;5;241m=\u001b[39m {metric: avg_s \u001b[38;5;28;01mfor\u001b[39;00m metric,avg_s \u001b[38;5;129;01min\u001b[39;00m \u001b[38;5;28mzip\u001b[39m(metrics_name,task_avg_scores)}\n\u001b[0;32m--> 338\u001b[0m \u001b[38;5;28;43mself\u001b[39;49m\u001b[38;5;241m.\u001b[39mlog(metrics)\n\u001b[1;32m    339\u001b[0m \u001b[38;5;28;01mreturn\u001b[39;00m metrics\n",
      "\u001b[0;31mNameError\u001b[0m: name 'self' is not defined"
     ]
    }
   ],
   "source": [
    "# cl_t = CLTrainer(model=model)\n",
    "# cl_t.evaluate(eureka_unsup['test'],eureka_unsup['corpus'],pooler_type='cls',)\n",
    "evaluate(model,eureka_unsup['test'],eureka_unsup['corpus'],model_type='FlagLLMModel',need_prompt_for_task=True)"
   ]
  },
  {
   "cell_type": "code",
   "execution_count": null,
   "metadata": {},
   "outputs": [],
   "source": []
  },
  {
   "cell_type": "code",
   "execution_count": null,
   "metadata": {},
   "outputs": [],
   "source": []
  },
  {
   "cell_type": "code",
   "execution_count": null,
   "metadata": {},
   "outputs": [],
   "source": []
  }
 ],
 "metadata": {
  "kernelspec": {
   "display_name": "bge_flash",
   "language": "python",
   "name": "python3"
  },
  "language_info": {
   "codemirror_mode": {
    "name": "ipython",
    "version": 3
   },
   "file_extension": ".py",
   "mimetype": "text/x-python",
   "name": "python",
   "nbconvert_exporter": "python",
   "pygments_lexer": "ipython3",
   "version": "3.10.14"
  }
 },
 "nbformat": 4,
 "nbformat_minor": 2
}
